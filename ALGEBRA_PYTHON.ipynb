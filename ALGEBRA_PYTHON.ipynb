{
  "nbformat": 4,
  "nbformat_minor": 0,
  "metadata": {
    "colab": {
      "name": "ALGEBRA PYTHON.ipynb",
      "provenance": [],
      "collapsed_sections": [],
      "authorship_tag": "ABX9TyNR+9Nw3J4Ph6rK5FBFcnAe",
      "include_colab_link": true
    },
    "kernelspec": {
      "name": "python3",
      "display_name": "Python 3"
    },
    "language_info": {
      "name": "python"
    }
  },
  "cells": [
    {
      "cell_type": "markdown",
      "metadata": {
        "id": "view-in-github",
        "colab_type": "text"
      },
      "source": [
        "<a href=\"https://colab.research.google.com/github/Raghv-github/MATRIX-OPERATION-WITH-THE-HELP-OF-PYTHON/blob/OPERATIONS/ALGEBRA_PYTHON.ipynb\" target=\"_parent\"><img src=\"https://colab.research.google.com/assets/colab-badge.svg\" alt=\"Open In Colab\"/></a>"
      ]
    },
    {
      "cell_type": "markdown",
      "source": [
        "***NUMPY N-DIMENSIONAL ARRAY***\n",
        "\n",
        "\n",
        "\n",
        "\n"
      ],
      "metadata": {
        "id": "v9XXVdN1vEqW"
      }
    },
    {
      "cell_type": "markdown",
      "source": [
        ""
      ],
      "metadata": {
        "id": "tbERt50o1Qqi"
      }
    },
    {
      "cell_type": "code",
      "source": [
        "from numpy import array\n",
        "# create array\n",
        "l = [1.0, 2.0, 3.0]\n",
        "a = array(l)\n",
        "# display array\n",
        "print(a)\n",
        "# display array shape\n",
        "print(a.shape)\n",
        "# display array data type\n",
        "print(a.dtype)"
      ],
      "metadata": {
        "colab": {
          "base_uri": "https://localhost:8080/"
        },
        "id": "WVcnzVcQvf2H",
        "outputId": "7e1ddc7d-faa1-4c6d-e9b3-7c0c4223238a"
      },
      "execution_count": null,
      "outputs": [
        {
          "output_type": "stream",
          "name": "stdout",
          "text": [
            "[1. 2. 3.]\n",
            "(3,)\n",
            "float64\n"
          ]
        }
      ]
    },
    {
      "cell_type": "markdown",
      "source": [
        "***EMPTY ARRAY***"
      ],
      "metadata": {
        "id": "xG_7N1Q71fO3"
      }
    },
    {
      "cell_type": "code",
      "source": [
        "# create empty array\n",
        "from numpy import empty\n",
        "a = empty([3,3])\n",
        "print(a)"
      ],
      "metadata": {
        "colab": {
          "base_uri": "https://localhost:8080/"
        },
        "id": "T2Gxgp04vhAW",
        "outputId": "304c4238-2630-446d-9db3-94a175385a4c"
      },
      "execution_count": null,
      "outputs": [
        {
          "output_type": "stream",
          "name": "stdout",
          "text": [
            "[[1.92183157e-316 3.60739284e-313 1.38338381e-322]\n",
            " [1.92182999e-316 0.00000000e+000 0.00000000e+000]\n",
            " [4.94065646e-323 0.00000000e+000 0.00000000e+000]]\n"
          ]
        }
      ]
    },
    {
      "cell_type": "markdown",
      "source": [
        "***ZERO ARRAY***"
      ],
      "metadata": {
        "id": "YX0dB9aa12t8"
      }
    },
    {
      "cell_type": "code",
      "source": [
        "# create zero array\n",
        "from numpy import zeros\n",
        "a = zeros([3,5])\n",
        "print(a)"
      ],
      "metadata": {
        "colab": {
          "base_uri": "https://localhost:8080/"
        },
        "id": "LSnF6kn3vwk9",
        "outputId": "e0a5b30a-02dc-493d-cdd2-df4e5c2cfc91"
      },
      "execution_count": null,
      "outputs": [
        {
          "output_type": "stream",
          "name": "stdout",
          "text": [
            "[[0. 0. 0. 0. 0.]\n",
            " [0. 0. 0. 0. 0.]\n",
            " [0. 0. 0. 0. 0.]]\n"
          ]
        }
      ]
    },
    {
      "cell_type": "markdown",
      "source": [
        "***ONE ARRAY***"
      ],
      "metadata": {
        "id": "QONIxEan2AMr"
      }
    },
    {
      "cell_type": "code",
      "source": [
        "# create one array\n",
        "from numpy import ones\n",
        "a = ones([5])\n",
        "print(a)"
      ],
      "metadata": {
        "colab": {
          "base_uri": "https://localhost:8080/"
        },
        "id": "oaYrEL2Wv4NQ",
        "outputId": "6cc95fa3-c8d8-408f-bc81-1dcb02467e86"
      },
      "execution_count": null,
      "outputs": [
        {
          "output_type": "stream",
          "name": "stdout",
          "text": [
            "[1. 1. 1. 1. 1.]\n"
          ]
        }
      ]
    },
    {
      "cell_type": "markdown",
      "source": [
        "***VERTICAL STACK***"
      ],
      "metadata": {
        "id": "QUZegqMx2HjD"
      }
    },
    {
      "cell_type": "code",
      "source": [
        "# create array with vstack\n",
        "from numpy import array\n",
        "from numpy import vstack\n",
        "# create first array\n",
        "a1 = array([1,2,3])\n",
        "print(a1)\n",
        "# create second array\n",
        "a2 = array([4,5,6])\n",
        "print(a2)\n",
        "# vertical stack\n",
        "a3 = vstack((a1, a2))\n",
        "print(a3)\n",
        "print(a3.shape)"
      ],
      "metadata": {
        "colab": {
          "base_uri": "https://localhost:8080/"
        },
        "id": "9ZAUXGHQv_6p",
        "outputId": "80b3cb16-0f5c-4cdc-d23c-880873452bac"
      },
      "execution_count": null,
      "outputs": [
        {
          "output_type": "stream",
          "name": "stdout",
          "text": [
            "[1 2 3]\n",
            "[4 5 6]\n",
            "[[1 2 3]\n",
            " [4 5 6]]\n",
            "(2, 3)\n"
          ]
        }
      ]
    },
    {
      "cell_type": "markdown",
      "source": [
        "***HORIZONTAL ARRAY***"
      ],
      "metadata": {
        "id": "fBS9u0Fr2Re6"
      }
    },
    {
      "cell_type": "code",
      "source": [
        "# create array with hstack\n",
        "from numpy import array\n",
        "from numpy import hstack\n",
        "# create first array\n",
        "a1 = array([1,2,3])\n",
        "print(a1)\n",
        "# create second array\n",
        "a2 = array([4,5,6])\n",
        "print(a2)\n",
        "# create horizontal stack\n",
        "a3 = hstack((a1, a2))\n",
        "print(a3)\n",
        "print(a3.shape)"
      ],
      "metadata": {
        "colab": {
          "base_uri": "https://localhost:8080/"
        },
        "id": "RK21yp09wN2e",
        "outputId": "74c08e04-0471-4b4b-c552-362008d7be28"
      },
      "execution_count": null,
      "outputs": [
        {
          "output_type": "stream",
          "name": "stdout",
          "text": [
            "[1 2 3]\n",
            "[4 5 6]\n",
            "[1 2 3 4 5 6]\n",
            "(6,)\n"
          ]
        }
      ]
    },
    {
      "cell_type": "markdown",
      "source": [
        "***TRIANGULAR MATRIX***"
      ],
      "metadata": {
        "id": "E9hCDBZd2XjO"
      }
    },
    {
      "cell_type": "code",
      "source": [
        "#triganular matrix\n",
        "import numpy as np\n",
        "M=np.array([\n",
        "[1,2,3],\n",
        "[1,2,3],\n",
        "[1,2,3]])\n",
        "print(M)\n",
        "#LOWER TRIANGULAR MATRIX \n",
        "lower = np.tril(M)\n",
        "print(lower)      \n",
        "#UPPER TRIANGULARC MATRIX\n",
        "upper = np.triu(M)\n",
        "print(upper)      "
      ],
      "metadata": {
        "colab": {
          "base_uri": "https://localhost:8080/"
        },
        "id": "xKnVJt86wWyV",
        "outputId": "0bf4f42f-82d2-4f84-f26d-9a278e7921f6"
      },
      "execution_count": null,
      "outputs": [
        {
          "output_type": "stream",
          "name": "stdout",
          "text": [
            "[[1 2 3]\n",
            " [1 2 3]\n",
            " [1 2 3]]\n",
            "[[1 0 0]\n",
            " [1 2 0]\n",
            " [1 2 3]]\n",
            "[[1 2 3]\n",
            " [0 2 3]\n",
            " [0 0 3]]\n"
          ]
        }
      ]
    },
    {
      "cell_type": "markdown",
      "source": [
        "***"
      ],
      "metadata": {
        "id": "g5czM7BL2fW4"
      }
    },
    {
      "cell_type": "markdown",
      "source": [
        "***DIAGONAL MATRIX***"
      ],
      "metadata": {
        "id": "-lniyX_Y2zd9"
      }
    },
    {
      "cell_type": "code",
      "source": [
        "# diagonal matrix\n",
        "from numpy import array\n",
        "from numpy import diag\n",
        "# define square matrix\n",
        "M = array([\n",
        "[1, 2, 3],\n",
        "[1, 2, 3],\n",
        "[1, 2, 3]])\n",
        "print(M)\n",
        "# extract diagonal vector\n",
        "d = diag(M)\n",
        "print(d)\n",
        "# create diagonal matrix from vector\n",
        "D = diag(d)\n",
        "print(D)"
      ],
      "metadata": {
        "colab": {
          "base_uri": "https://localhost:8080/"
        },
        "id": "_8lBnmJ1w1Mb",
        "outputId": "8a980079-d677-4c3c-e9d3-733139fad47f"
      },
      "execution_count": null,
      "outputs": [
        {
          "output_type": "stream",
          "name": "stdout",
          "text": [
            "[[1 2 3]\n",
            " [1 2 3]\n",
            " [1 2 3]]\n",
            "[1 2 3]\n",
            "[[1 0 0]\n",
            " [0 2 0]\n",
            " [0 0 3]]\n"
          ]
        }
      ]
    },
    {
      "cell_type": "markdown",
      "source": [
        "***IDENTITY MATRIX***"
      ],
      "metadata": {
        "id": "7LZBciN625v7"
      }
    },
    {
      "cell_type": "code",
      "source": [
        "# identity matrix\n",
        "from numpy import identity\n",
        "I = identity(3)\n",
        "print(I)"
      ],
      "metadata": {
        "colab": {
          "base_uri": "https://localhost:8080/"
        },
        "id": "kdCNQj2cxwo2",
        "outputId": "5a8b609e-2cb6-492b-a6c3-08373e54cbb8"
      },
      "execution_count": null,
      "outputs": [
        {
          "output_type": "stream",
          "name": "stdout",
          "text": [
            "[[1. 0. 0.]\n",
            " [0. 1. 0.]\n",
            " [0. 0. 1.]]\n"
          ]
        }
      ]
    },
    {
      "cell_type": "markdown",
      "source": [
        "***ORTHOGONAL MATRIX***"
      ],
      "metadata": {
        "id": "q_U3Jcr73AOY"
      }
    },
    {
      "cell_type": "code",
      "source": [
        "# orthogonal matrix\n",
        "from numpy import array\n",
        "from numpy.linalg import inv\n",
        "# define orthogonal matrix\n",
        "Q = array([\n",
        "[1, 0],\n",
        "[0, -1]])\n",
        "print(Q)\n",
        "# inverse equivalence\n",
        "V = inv(Q)\n",
        "print(Q.T)\n",
        "print(V)\n",
        "# identity equivalence\n",
        "I = Q.dot(Q.T)\n",
        "print(I)\n"
      ],
      "metadata": {
        "colab": {
          "base_uri": "https://localhost:8080/"
        },
        "id": "7jYcNL5hyBol",
        "outputId": "86be3940-4e53-4503-bf9c-439b116955e0"
      },
      "execution_count": null,
      "outputs": [
        {
          "output_type": "stream",
          "name": "stdout",
          "text": [
            "[[ 1  0]\n",
            " [ 0 -1]]\n",
            "[[ 1  0]\n",
            " [ 0 -1]]\n",
            "[[ 1.  0.]\n",
            " [-0. -1.]]\n",
            "[[1 0]\n",
            " [0 1]]\n"
          ]
        }
      ]
    },
    {
      "cell_type": "markdown",
      "source": [
        "***TRANSPOSE OF MATRIX***"
      ],
      "metadata": {
        "id": "mkXyq66a3FdM"
      }
    },
    {
      "cell_type": "code",
      "source": [
        "# transpose matrix\n",
        "from numpy import array\n",
        "# define matrix\n",
        "A = array([\n",
        "[1, 2],\n",
        "[3, 4],\n",
        "[5, 6]])\n",
        "print(A)\n",
        "# calculate transpose\n",
        "c = A.T\n",
        "print(c)"
      ],
      "metadata": {
        "colab": {
          "base_uri": "https://localhost:8080/"
        },
        "id": "6PDXATigyPtP",
        "outputId": "a5db0f9c-9091-41a0-a4fa-6fc69a88f081"
      },
      "execution_count": null,
      "outputs": [
        {
          "output_type": "stream",
          "name": "stdout",
          "text": [
            "[[1 2]\n",
            " [3 4]\n",
            " [5 6]]\n",
            "[[1 3 5]\n",
            " [2 4 6]]\n"
          ]
        }
      ]
    },
    {
      "cell_type": "markdown",
      "source": [
        "***INVERSE MATRIX***"
      ],
      "metadata": {
        "id": "G5oOLaGH3NJT"
      }
    },
    {
      "cell_type": "code",
      "source": [
        "# invert matrix\n",
        "from numpy import array\n",
        "from numpy.linalg import inv\n",
        "# define matrix\n",
        "A = array([\n",
        "[1.0, 2.0],\n",
        "[3.0, 4.0]])\n",
        "print(A)\n",
        "# invert matrix\n",
        "B = inv(A)\n",
        "print(B)\n",
        "# multiply A and B\n",
        "I = A.dot(B)\n",
        "print(I)"
      ],
      "metadata": {
        "colab": {
          "base_uri": "https://localhost:8080/"
        },
        "id": "1ZPTZJJOy4lR",
        "outputId": "d80f0ca7-f79a-4596-ce45-8021faf6057f"
      },
      "execution_count": null,
      "outputs": [
        {
          "output_type": "stream",
          "name": "stdout",
          "text": [
            "[[1. 2.]\n",
            " [3. 4.]]\n",
            "[[-2.   1. ]\n",
            " [ 1.5 -0.5]]\n",
            "[[1.0000000e+00 0.0000000e+00]\n",
            " [8.8817842e-16 1.0000000e+00]]\n"
          ]
        }
      ]
    },
    {
      "cell_type": "markdown",
      "source": [
        "***DETERMINANT OF MATRIX***\n"
      ],
      "metadata": {
        "id": "xbRANV1N3ScU"
      }
    },
    {
      "cell_type": "code",
      "source": [
        "# matrix determinant\n",
        "from numpy import array\n",
        "from numpy.linalg import det\n",
        "# define matrix\n",
        "A = array([\n",
        "[1, 2, 3],\n",
        "[4, 5, 6],\n",
        "[7, 8, 9]])\n",
        "print(A)\n",
        "# calculate determinant\n",
        "B = det(A)\n",
        "print(B)"
      ],
      "metadata": {
        "colab": {
          "base_uri": "https://localhost:8080/"
        },
        "id": "Tna9mpHYzOMX",
        "outputId": "1f3f5558-04a1-4190-8b74-85fa2af23341"
      },
      "execution_count": null,
      "outputs": [
        {
          "output_type": "stream",
          "name": "stdout",
          "text": [
            "[[1 2 3]\n",
            " [4 5 6]\n",
            " [7 8 9]]\n",
            "0.0\n"
          ]
        }
      ]
    },
    {
      "cell_type": "code",
      "source": [
        ""
      ],
      "metadata": {
        "id": "jUmE26b_z_Ey"
      },
      "execution_count": null,
      "outputs": []
    }
  ]
}